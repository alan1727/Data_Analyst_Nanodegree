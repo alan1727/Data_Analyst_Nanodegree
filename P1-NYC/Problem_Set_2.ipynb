{
 "cells": [
  {
   "cell_type": "code",
   "execution_count": 28,
   "metadata": {
    "collapsed": true
   },
   "outputs": [],
   "source": [
    "import pandas as pd\n",
    "import pandasql\n",
    "import numpy as np\n",
    "import csv\n",
    "import math"
   ]
  },
  {
   "cell_type": "code",
   "execution_count": 29,
   "metadata": {
    "collapsed": true
   },
   "outputs": [],
   "source": [
    "# Run a SQL query on a dataframe to get the number of rainy days \n",
    "def num_rainy_days(filename):\n",
    "    weather_data = pd.read_csv(filename)\n",
    "    \n",
    "    q = \"\"\"\n",
    "    SELECT\n",
    "    COUNT(rain)\n",
    "    FROM\n",
    "    weather_data\n",
    "    WHERE\n",
    "    rain = 1\n",
    "    \"\"\"\n",
    "    \n",
    "    # Execute the SQL command against the pandas frame\n",
    "    rainy_days = pandasql.sqldf(q.lower(), locals())\n",
    "    return rainy_days"
   ]
  },
  {
   "cell_type": "code",
   "execution_count": 30,
   "metadata": {
    "collapsed": false
   },
   "outputs": [],
   "source": [
    "# Run a SQl query on a dataframe to get the maximum max temperature for both foggy and non-foggy days\n",
    "def max_temp_aggregate_by_fog(filename):\n",
    "    weather_data = pd.read_csv(filename)\n",
    "    \n",
    "    q = \"\"\"\n",
    "    SELECT \n",
    "    fog, MAX(maxtempi)\n",
    "    FROM\n",
    "    weather_data\n",
    "    GROUP BY\n",
    "    fog\n",
    "    \"\"\"\n",
    "    \n",
    "    # Execute the SQL command against the pandas frame\n",
    "    foggy_days = pandasql.sqldf(q.lower(), locals())\n",
    "    return foggy_days"
   ]
  },
  {
   "cell_type": "code",
   "execution_count": 31,
   "metadata": {
    "collapsed": false
   },
   "outputs": [],
   "source": [
    "# Run a SQL query on a dataframe to get the average mean temperature on weekends\n",
    "def avg_weekend_temperature(filename):\n",
    "    weather_data = pd.read_csv(filename)\n",
    "    \n",
    "    q = \"\"\"\n",
    "    SELECT \n",
    "    AVG(meantempi)\n",
    "    FROM \n",
    "    weather_data\n",
    "    WHERE\n",
    "    CAST(STRFTIME('%w',date) as INTEGER) = 0 \n",
    "    OR\n",
    "    CAST(STRFTIME('%w',date) as INTEGER) = 6\n",
    "    \"\"\"\n",
    "    \n",
    "    #Execute the SQL command against the pandas frame\n",
    "    mean_temp_weekends = pandasql.sqldf(q.lower(), locals())\n",
    "    return mean_temp_weekends"
   ]
  },
  {
   "cell_type": "code",
   "execution_count": 32,
   "metadata": {
    "collapsed": false
   },
   "outputs": [
    {
     "data": {
      "text/html": [
       "<div style=\"max-height:1000px;max-width:1500px;overflow:auto;\">\n",
       "<table border=\"1\" class=\"dataframe\">\n",
       "  <thead>\n",
       "    <tr style=\"text-align: right;\">\n",
       "      <th></th>\n",
       "      <th>avg(meantempi)</th>\n",
       "    </tr>\n",
       "  </thead>\n",
       "  <tbody>\n",
       "    <tr>\n",
       "      <th>0</th>\n",
       "      <td>65.111111</td>\n",
       "    </tr>\n",
       "  </tbody>\n",
       "</table>\n",
       "</div>"
      ],
      "text/plain": [
       "   avg(meantempi)\n",
       "0       65.111111"
      ]
     },
     "execution_count": 32,
     "metadata": {},
     "output_type": "execute_result"
    }
   ],
   "source": [
    "avg_weekend_temperature(\"weather_underground.csv\")"
   ]
  },
  {
   "cell_type": "code",
   "execution_count": 33,
   "metadata": {
    "collapsed": true
   },
   "outputs": [],
   "source": [
    "# Run a SQL query on a dataframe to get the average minimum temperature on rainy days \n",
    "# where the minimum temperature is greater than 55 degrees\n",
    "def avg_min_temperature(filename):\n",
    "    weather_data = pd.read_csv(filename)\n",
    "    \n",
    "    q = \"\"\"\n",
    "    SELECT \n",
    "    AVG(mintempi)\n",
    "    FROM\n",
    "    weather_data\n",
    "    WHERE\n",
    "    rain = 1\n",
    "    AND\n",
    "    mintempi > 55\n",
    "    \"\"\"\n",
    "    \n",
    "    #Execute the SQL command against the pandas frame\n",
    "    avg_min_temp_rainy = pandasql.sqldf(q.lower(), locals())\n",
    "    return avg_min_temp_rainy"
   ]
  },
  {
   "cell_type": "code",
   "execution_count": 34,
   "metadata": {
    "collapsed": false
   },
   "outputs": [],
   "source": [
    "# Update each row in the text files so there is only one entry per row.\n",
    "\n",
    "def fix_turnstile_data(filenames):\n",
    "    for name in filenames:\n",
    "        updated_file = \"updated_\" + name\n",
    "        # Open one file from the file list\n",
    "        f_in = open(name, 'r')\n",
    "        # Create a new file\n",
    "        f_out = open(updated_file, 'w')\n",
    "        \n",
    "        # Read the old file\n",
    "        read_in = csv.reader(f_in, delimiter=',')\n",
    "        # Ready to write new file\n",
    "        write_out = csv.writer(f_out, delimiter=',')\n",
    "        \n",
    "        # Read the old file line by line, every line is a list\n",
    "        for line in read_in:\n",
    "                id0 = line[0]\n",
    "                id1 = line[1]\n",
    "                id2 = line[2]\n",
    "                i = 3 \n",
    "                while i < len(line):\n",
    "                    # The first 3 elements of new lines are same like the old line.\n",
    "                    line_new = [id0,id1,id2,line[i],line[i+1],line[i+2],line[i+3],line[i+4]]\n",
    "                    # Write the new line.\n",
    "                    write_out.writerow(line_new)\n",
    "                    i = i + 5\n",
    "        \n",
    "        #Close the old and new files\n",
    "        f_in.close()\n",
    "        f_out.close()"
   ]
  },
  {
   "cell_type": "code",
   "execution_count": 35,
   "metadata": {
    "collapsed": false
   },
   "outputs": [],
   "source": [
    "fix_turnstile_data([\"turnstile_110507.txt\"])"
   ]
  },
  {
   "cell_type": "code",
   "execution_count": 38,
   "metadata": {
    "collapsed": false
   },
   "outputs": [],
   "source": [
    "# Combining Turnstile Data\n",
    "def create_master_turnstile_file(filenames, output_file):\n",
    "    f_out = open(output_file, 'w')\n",
    "    writer_out = csv.writer(f_out, delimiter=',')\n",
    "    row1 = [\"C/A\", \"UNIT\", \"SCP\", \"DATEn\", \"TIMEn\", \"DESCn\", \"ENTRIESn\", \"EXITSn\"]\n",
    "    writer_out.writerow(row1)\n",
    "    \n",
    "    for name in filenames:\n",
    "        f_in = open(name, 'r')\n",
    "        read_in = csv.reader(f_in, delimiter=',')\n",
    "        for line in read_in:\n",
    "            writer_out.writerow(line)\n",
    "        f_in.close()\n",
    "    \n",
    "    f_out.close()"
   ]
  },
  {
   "cell_type": "code",
   "execution_count": 41,
   "metadata": {
    "collapsed": true
   },
   "outputs": [],
   "source": [
    "create_master_turnstile_file([\"updated_turnstile_110507.txt\"], \"updated.txt\")"
   ]
  },
  {
   "cell_type": "code",
   "execution_count": 2,
   "metadata": {
    "collapsed": true
   },
   "outputs": [],
   "source": [
    "# Filtering Irregular Data\n",
    "def filter_by_regular(filename):\n",
    "    turnstile_data = pd.read_csv(filename)\n",
    "    q = \"\"\"\n",
    "    SELECT\n",
    "    * \n",
    "    FROM\n",
    "    turnstile_data\n",
    "    WHERE\n",
    "    DESCn = 'REGULAR'\n",
    "    \"\"\"\n",
    "    turnstile_data = pandasql.sqldf(q.lower(), locals())\n",
    "    return turnstile_data"
   ]
  },
  {
   "cell_type": "code",
   "execution_count": 3,
   "metadata": {
    "collapsed": false
   },
   "outputs": [],
   "source": [
    "# Get hourly entries\n",
    "def get_hourly_entries(df):\n",
    "    df['ENTRIESn_hourly'] = 1\n",
    "    i = 1\n",
    "    while i < len(df.index):\n",
    "        val1 = df.iat[i,7]\n",
    "        val2 = df.iat[i-1,7]\n",
    "        # The difference between ENTRIESn of the current row \n",
    "        # and the previous row\n",
    "        diff = int(val1) - int(val2)\n",
    "        if math.isnan(diff):\n",
    "            df.iat[i,9] = 1\n",
    "        else:\n",
    "            df.iat[i,9] = diff\n",
    "        i = i + 1\n",
    "    return df"
   ]
  },
  {
   "cell_type": "code",
   "execution_count": 8,
   "metadata": {
    "collapsed": false
   },
   "outputs": [],
   "source": [
    "# Get hourly exits\n",
    "def get_hourly_exits(df):\n",
    "    df['EXITSn_hourly'] = 0\n",
    "    i = 1\n",
    "    while i < len(df.index):\n",
    "        val1 = df.iat[i,8]\n",
    "        val2 = df.iat[i-1,8]\n",
    "        # The difference between EXITSn of the current row \n",
    "        # and the previous row\n",
    "        diff = int(val1) - int(val2)\n",
    "        if math.isnan(diff):\n",
    "            df.iat[i,10] = 0\n",
    "        else:\n",
    "            df.iat[i,10] = diff\n",
    "        i = i + 1\n",
    "    return df"
   ]
  },
  {
   "cell_type": "code",
   "execution_count": 10,
   "metadata": {
    "collapsed": true
   },
   "outputs": [],
   "source": [
    "# Extract the hour part from the input variable time\n",
    "# and return it as an integer\n",
    "def time_to_hour(t):\n",
    "    string_to_time = time.strptime(t, \"%H:%M:%S\")\n",
    "    hour = int(time.strftime(\"%H\",string_to_time))\n",
    "    return hour"
   ]
  },
  {
   "cell_type": "code",
   "execution_count": 11,
   "metadata": {
    "collapsed": true
   },
   "outputs": [],
   "source": [
    "# Reformat Subway Dates\n",
    "def reformat_subway_dates(date):\n",
    "    string_to_time = time.strptime(date, \"%m-%d-%y\")\n",
    "    date_formatted = time.strftime(\"%Y-%m-%d\",string_to_time)\n",
    "    return date_formatted"
   ]
  },
  {
   "cell_type": "code",
   "execution_count": null,
   "metadata": {
    "collapsed": true
   },
   "outputs": [],
   "source": []
  },
  {
   "cell_type": "code",
   "execution_count": null,
   "metadata": {
    "collapsed": true
   },
   "outputs": [],
   "source": []
  }
 ],
 "metadata": {
  "kernelspec": {
   "display_name": "Python 2",
   "language": "python",
   "name": "python2"
  },
  "language_info": {
   "codemirror_mode": {
    "name": "ipython",
    "version": 2
   },
   "file_extension": ".py",
   "mimetype": "text/x-python",
   "name": "python",
   "nbconvert_exporter": "python",
   "pygments_lexer": "ipython2",
   "version": "2.7.9"
  }
 },
 "nbformat": 4,
 "nbformat_minor": 0
}
