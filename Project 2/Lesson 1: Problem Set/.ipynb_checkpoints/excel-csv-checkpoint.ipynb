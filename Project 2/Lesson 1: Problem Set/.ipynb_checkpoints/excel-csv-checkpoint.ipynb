{
 "cells": [
  {
   "cell_type": "code",
   "execution_count": 10,
   "metadata": {
    "collapsed": false,
    "scrolled": true
   },
   "outputs": [
    {
     "name": "stdout",
     "output_type": "stream",
     "text": [
      "{u'A': {'max_val': 9.0, 'max_time': (2015, 7, 2, 17, 38, 4)}, u'C': {'max_val': 11.0, 'max_time': (2015, 7, 2, 17, 38, 4)}, u'B': {'max_val': 10.0, 'max_time': (2015, 7, 2, 17, 38, 4)}, u'E': {'max_val': 13.0, 'max_time': (2015, 7, 2, 17, 38, 4)}, u'D': {'max_val': 12.0, 'max_time': (2015, 7, 2, 17, 38, 4)}, u'G': {'max_val': 15.0, 'max_time': (2015, 7, 2, 17, 38, 4)}, u'F': {'max_val': 14.0, 'max_time': (2015, 7, 2, 17, 38, 4)}, u'H': {'max_val': 16.0, 'max_time': (2015, 7, 2, 17, 38, 4)}}\n"
     ]
    }
   ],
   "source": [
    "# -*- coding: utf-8 -*-\n",
    "# Find the time and value of max load for each of the regions\n",
    "# COAST, EAST, FAR_WEST, NORTH, NORTH_C, SOUTHERN, SOUTH_C, WEST\n",
    "# and write the result out in a csv file, using pipe character | as the delimiter.\n",
    "# An example output can be seen in the \"example.csv\" file.\n",
    "\n",
    "import xlrd\n",
    "import os\n",
    "import csv\n",
    "from zipfile import ZipFile\n",
    "\n",
    "datafile = \"1.xlsx\"\n",
    "outfile = \"2013_Max_Loads.csv\"\n",
    "\n",
    "\n",
    "def open_zip(datafile):\n",
    "    with ZipFile('{0}.zip'.format(datafile), 'r') as myzip:\n",
    "        myzip.extractall()\n",
    "\n",
    "\n",
    "def parse_file(datafile):\n",
    "    workbook = xlrd.open_workbook(datafile)\n",
    "    sheet = workbook.sheet_by_index(0)\n",
    "    data = {}\n",
    "    for i in range(1,9):\n",
    "        station = sheet.cell_value(0,i)\n",
    "        col_val = sheet.col_values(i, start_rowx=1,end_rowx=None)\n",
    "        max_val = max(col_val)\n",
    "        max_row = col_val.index(max_val) + 1 \n",
    "        max_time = xlrd.xldate_as_tuple(sheet.cell_value((max_row),0),0)\n",
    "        data[station] = {'max_val':max_val,\n",
    "                         'max_time':max_time}\n",
    "    \n",
    "    # YOUR CODE HERE\n",
    "    # Remember that you can use xlrd.xldate_as_tuple(sometime, 0) to convert\n",
    "    # Excel date to Python tuple of (year, month, day, hour, minute, second)\n",
    "    print data\n",
    "    return data\n",
    "\n",
    "def save_file(data, filename):\n",
    "    f_out = open(filename,'w')\n",
    "    write_out = csv.writer(f_out, delimiter='|')\n",
    "    header = [\"Station\",\"Year\",\"Month\",\"Day\",\"Hour\",\"Max Load\"]\n",
    "    write_out.writerow(header)\n",
    "    for station in data:\n",
    "        year,month,day,hour,_,_ = data[station][\"max_time\"]\n",
    "        max_val = data[station][\"max_val\"]\n",
    "        write_out.writerow([station,year,month,day,hour,max_val])\n",
    "    f_out.close()\n",
    "    \n",
    "def test():\n",
    "    #open_zip(datafile)\n",
    "    data = parse_file(datafile)\n",
    "    save_file(data, outfile)\n",
    "\n",
    "    number_of_rows = 0\n",
    "    stations = []\n",
    "\n",
    "    ans = {'A': {'Max Load': '9',\n",
    "                        'Year': '2015',\n",
    "                        'Month': '7',\n",
    "                        'Day': '2',\n",
    "                        'Hour': '17'}}\n",
    "    correct_stations = ['A', 'B', 'C', 'D',\n",
    "                        'E', 'F', 'G', 'H']\n",
    "    fields = ['Year', 'Month', 'Day', 'Hour', 'Max Load']\n",
    "\n",
    "    with open(outfile) as of:\n",
    "        csvfile = csv.DictReader(of, delimiter=\"|\")\n",
    "        for line in csvfile:\n",
    "            station = line['Station']\n",
    "            if station == 'A':\n",
    "                for field in fields:\n",
    "                    # Check if 'Max Load' is within .1 of answer\n",
    "                    if field == 'Max Load':\n",
    "                        max_answer = round(float(ans[station][field]), 1)\n",
    "                        max_line = round(float(line[field]), 1)\n",
    "                        assert max_answer == max_line\n",
    "\n",
    "                    # Otherwise check for equality\n",
    "                    else:\n",
    "                        assert ans[station][field] == line[field]\n",
    "\n",
    "            number_of_rows += 1\n",
    "            stations.append(station)\n",
    "\n",
    "        # Output should be 8 lines not including header\n",
    "        assert number_of_rows == 8\n",
    "\n",
    "        # Check Station Names\n",
    "        assert set(stations) == set(correct_stations)\n",
    "\n",
    "        \n",
    "if __name__ == \"__main__\":\n",
    "    test()\n",
    "    \n"
   ]
  },
  {
   "cell_type": "code",
   "execution_count": 13,
   "metadata": {
    "collapsed": false
   },
   "outputs": [
    {
     "name": "stdout",
     "output_type": "stream",
     "text": [
      "cai\n",
      "jian\n",
      "xiao\n"
     ]
    }
   ],
   "source": [
    "classmates = (\"cai\",\"jian\",\"xiao\")\n",
    "a,b,c = classmates\n",
    "print a+'\\n'+b+'\\n'+c"
   ]
  }
 ],
 "metadata": {
  "kernelspec": {
   "display_name": "Python 2",
   "language": "python",
   "name": "python2"
  },
  "language_info": {
   "codemirror_mode": {
    "name": "ipython",
    "version": 2
   },
   "file_extension": ".py",
   "mimetype": "text/x-python",
   "name": "python",
   "nbconvert_exporter": "python",
   "pygments_lexer": "ipython2",
   "version": "2.7.9"
  }
 },
 "nbformat": 4,
 "nbformat_minor": 0
}
