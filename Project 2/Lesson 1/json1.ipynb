{
 "cells": [
  {
   "cell_type": "code",
   "execution_count": 2,
   "metadata": {
    "collapsed": true
   },
   "outputs": [],
   "source": [
    "import json\n",
    "import requests"
   ]
  },
  {
   "cell_type": "code",
   "execution_count": 53,
   "metadata": {
    "collapsed": false,
    "scrolled": false
   },
   "outputs": [
    {
     "name": "stdout",
     "output_type": "stream",
     "text": [
      "requesting http://musicbrainz.org/ws/2/artist/?query=artist%3AFIRST+AID+KIT&fmt=json\n",
      "2\n",
      "requesting http://musicbrainz.org/ws/2/artist/?query=artist%3AQUEEN&fmt=json\n",
      "London\n",
      "requesting http://musicbrainz.org/ws/2/artist/?query=artist%3ABEATLES&fmt=json\n",
      "Los Beatles\n",
      "requesting http://musicbrainz.org/ws/2/artist/?query=artist%3ANIRVANA&fmt=json\n",
      "90s US grunge band\n",
      "requesting http://musicbrainz.org/ws/2/artist/?query=artist%3AONE+DIRECTION&fmt=json\n",
      "2010\n"
     ]
    }
   ],
   "source": [
    "# To experiment with this code freely you will have to run this code locally.\n",
    "# We have provided an example json output here for you to look at,\n",
    "# but you will not be able to run any queries through our UI.\n",
    "import json\n",
    "import requests\n",
    "\n",
    "\n",
    "BASE_URL = \"http://musicbrainz.org/ws/2/\"\n",
    "ARTIST_URL = BASE_URL + \"artist/\"\n",
    "\n",
    "query_type = {  \"simple\": {},\n",
    "                \"atr\": {\"inc\": \"aliases+tags+ratings\"},\n",
    "                \"aliases\": {\"inc\": \"aliases\"},\n",
    "                \"releases\": {\"inc\": \"releases\"}}\n",
    "\n",
    "\n",
    "def query_site(url, params, uid=\"\", fmt=\"json\"):\n",
    "    params[\"fmt\"] = fmt\n",
    "    r = requests.get(url + uid, params=params)\n",
    "    print \"requesting\", r.url\n",
    "\n",
    "    if r.status_code == requests.codes.ok:\n",
    "        return r.json()\n",
    "    else:\n",
    "        r.raise_for_status()\n",
    "\n",
    "\n",
    "def query_by_name(url, params, name):\n",
    "    params[\"query\"] = \"artist:\" + name\n",
    "    return query_site(url, params)\n",
    "\n",
    "\n",
    "def pretty_print(data, indent=4):\n",
    "    if type(data) == dict:\n",
    "        print json.dumps(data, indent=indent, sort_keys=True)\n",
    "    else:\n",
    "        print data\n",
    "\n",
    "\n",
    "def main():\n",
    "    results = query_by_name(ARTIST_URL, query_type[\"simple\"], \"FIRST AID KIT\")\n",
    "    count = 0\n",
    "    for i in results['artists']:\n",
    "        if i['name'].upper() == \"FIRST AID KIT\":\n",
    "            count += 1\n",
    "    print count \n",
    "    \n",
    "    results2 = query_by_name(ARTIST_URL, query_type[\"simple\"], \"QUEEN\")\n",
    "    print results2['artists'][0]['begin-area']['name']\n",
    "\n",
    "    results3 = query_by_name(ARTIST_URL,query_type[\"simple\"],'BEATLES')\n",
    "    for i in results3['artists'][0]['aliases']:\n",
    "        if i['locale']==\"es\":\n",
    "            print i['name']\n",
    "            \n",
    "    results4 = query_by_name(ARTIST_URL,query_type[\"simple\"],'NIRVANA')\n",
    "    print results4['artists'][0]['disambiguation']\n",
    "    \n",
    "    results5 = query_by_name(ARTIST_URL,query_type[\"simple\"],'ONE DIRECTION')\n",
    "    print results5['artists'][0]['life-span']['begin']\n",
    "\n",
    "if __name__ == '__main__':\n",
    "    main()\n"
   ]
  }
 ],
 "metadata": {
  "kernelspec": {
   "display_name": "Python 2",
   "language": "python",
   "name": "python2"
  },
  "language_info": {
   "codemirror_mode": {
    "name": "ipython",
    "version": 2
   },
   "file_extension": ".py",
   "mimetype": "text/x-python",
   "name": "python",
   "nbconvert_exporter": "python",
   "pygments_lexer": "ipython2",
   "version": "2.7.9"
  }
 },
 "nbformat": 4,
 "nbformat_minor": 0
}
