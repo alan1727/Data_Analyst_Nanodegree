{
 "cells": [
  {
   "cell_type": "code",
   "execution_count": 5,
   "metadata": {
    "collapsed": false
   },
   "outputs": [
    {
     "name": "stdout",
     "output_type": "stream",
     "text": [
      "[{'Title': 'Please Please Me', 'UK Chart Position': '1', 'Label': 'Parlophone(UK)', 'Released': '22 March 1963', 'US Chart Position': '-', 'RIAA Certification': 'Platinum', 'BPI Certification': 'Gold'}, {'Title': 'With the Beatles', 'UK Chart Position': '1', 'Label': 'Parlophone(UK)', 'Released': '22 November 1963', 'US Chart Position': '-', 'RIAA Certification': 'Gold', 'BPI Certification': 'Platinum'}, {'Title': 'Beatlemania! With the Beatles', 'UK Chart Position': '-', 'Label': 'Capitol(CAN)', 'Released': '25 November 1963', 'US Chart Position': '-', 'RIAA Certification': '', 'BPI Certification': ''}, {'Title': 'Introducing... The Beatles', 'UK Chart Position': '-', 'Label': 'Vee-Jay(US)', 'Released': '10 January 1964', 'US Chart Position': '2', 'RIAA Certification': '', 'BPI Certification': ''}, {'Title': 'Meet the Beatles!', 'UK Chart Position': '-', 'Label': 'Capitol(US)', 'Released': '20 January 1964', 'US Chart Position': '1', 'RIAA Certification': '5xPlatinum', 'BPI Certification': ''}, {'Title': 'Twist and Shout', 'UK Chart Position': '-', 'Label': 'Capitol(CAN)', 'Released': '3 February 1964', 'US Chart Position': '-', 'RIAA Certification': '', 'BPI Certification': ''}, {'Title': \"The Beatles' Second Album\", 'UK Chart Position': '-', 'Label': 'Capitol(US)', 'Released': '10 April 1964', 'US Chart Position': '1', 'RIAA Certification': '2xPlatinum', 'BPI Certification': ''}, {'Title': \"The Beatles' Long Tall Sally\", 'UK Chart Position': '-', 'Label': 'Capitol(CAN)', 'Released': '11 May 1964', 'US Chart Position': '-', 'RIAA Certification': '', 'BPI Certification': ''}, {'Title': \"A Hard Day's Night\", 'UK Chart Position': '-', 'Label': 'United Artists(US)[C]', 'Released': '26 June 1964', 'US Chart Position': '1', 'RIAA Certification': '4xPlatinum', 'BPI Certification': ''}, {'Title': '', 'UK Chart Position': '1', 'Label': 'Parlophone(UK)', 'Released': '10 July 1964', 'US Chart Position': '-', 'RIAA Certification': '', 'BPI Certification': 'Gold'}, {'Title': 'Something New', 'UK Chart Position': '-', 'Label': 'Capitol(US)', 'Released': '20 July 1964', 'US Chart Position': '2', 'RIAA Certification': 'Platinum', 'BPI Certification': ''}, {'Title': 'Beatles for Sale', 'UK Chart Position': '1', 'Label': 'Parlophone(UK)', 'Released': '4 December 1964', 'US Chart Position': '-', 'RIAA Certification': 'Platinum', 'BPI Certification': 'Gold'}, {'Title': \"Beatles '65\", 'UK Chart Position': '-', 'Label': 'Capitol(US)', 'Released': '15 December 1964', 'US Chart Position': '1', 'RIAA Certification': '3xPlatinum', 'BPI Certification': ''}, {'Title': 'Beatles VI', 'UK Chart Position': '-', 'Label': 'Parlophone(NZ), Capitol(US)', 'Released': '14 June 1965', 'US Chart Position': '1', 'RIAA Certification': 'Platinum', 'BPI Certification': ''}, {'Title': 'Help!', 'UK Chart Position': '1', 'Label': 'Parlophone(UK)', 'Released': '6 August 1965', 'US Chart Position': '-', 'RIAA Certification': '', 'BPI Certification': 'Platinum'}, {'Title': '', 'UK Chart Position': '-', 'Label': 'Capitol(US)[C]', 'Released': '13 August 1965', 'US Chart Position': '1', 'RIAA Certification': '3xPlatinum', 'BPI Certification': ''}, {'Title': 'Rubber Soul', 'UK Chart Position': '1', 'Label': 'Parlophone(UK)', 'Released': '3 December 1965', 'US Chart Position': '-', 'RIAA Certification': '', 'BPI Certification': 'Platinum'}, {'Title': '', 'UK Chart Position': '-', 'Label': 'Capitol(US)[C]', 'Released': '6 December 1965', 'US Chart Position': '1', 'RIAA Certification': '6xPlatinum', 'BPI Certification': ''}, {'Title': 'Yesterday and Today', 'UK Chart Position': '-', 'Label': 'Capitol(US)', 'Released': '15 June 1966', 'US Chart Position': '1', 'RIAA Certification': '2xPlatinum', 'BPI Certification': ''}, {'Title': 'Revolver', 'UK Chart Position': '1', 'Label': 'Parlophone(UK)', 'Released': '5 August 1966', 'US Chart Position': '-', 'RIAA Certification': '', 'BPI Certification': 'Platinum'}, {'Title': '', 'UK Chart Position': '-', 'Label': 'Capitol(US)[C]', 'Released': '8 August 1966', 'US Chart Position': '1', 'RIAA Certification': '5xPlatinum', 'BPI Certification': ''}, {'Title': \"Sgt. Pepper's Lonely Hearts Club Band\", 'UK Chart Position': '1', 'Label': 'Parlophone(UK), Capitol(US)', 'Released': '1 June 1967', 'US Chart Position': '1', 'RIAA Certification': '11xPlatinum', 'BPI Certification': '3xPlatinum'}, {'Title': 'Magical Mystery Tour', 'UK Chart Position': '31[D]', 'Label': 'Parlophone(UK), Capitol(US)', 'Released': '27 November 1967', 'US Chart Position': '1', 'RIAA Certification': '6xPlatinum', 'BPI Certification': 'Platinum'}, {'Title': 'The Beatles', 'UK Chart Position': '1', 'Label': 'Apple(UK), Capitol(US)', 'Released': '22 November 1968', 'US Chart Position': '1', 'RIAA Certification': '19xPlatinum', 'BPI Certification': 'Platinum'}, {'Title': 'Yellow Submarine', 'UK Chart Position': '3', 'Label': 'Apple(UK), Capitol(US)', 'Released': '13 January 1969', 'US Chart Position': '2', 'RIAA Certification': 'Platinum', 'BPI Certification': 'Silver'}, {'Title': 'Abbey Road', 'UK Chart Position': '1', 'Label': 'Apple(UK), Capitol(US)', 'Released': '26 September 1969', 'US Chart Position': '1', 'RIAA Certification': '12xPlatinum', 'BPI Certification': '2xPlatinum'}, {'Title': 'Let It Be', 'UK Chart Position': '1', 'Label': 'Apple(UK),United Artists(US)', 'Released': '8 May 1970', 'US Chart Position': '1', 'RIAA Certification': '4xPlatinum', 'BPI Certification': 'Gold'}]\n"
     ]
    }
   ],
   "source": [
    "# Your task is to read the input DATAFILE line by line, and for the first 10 lines (not including the header)\n",
    "# split each line on \",\" and then for each line, create a dictionary\n",
    "# where the key is the header title of the field, and the value is the value of that field in the row.\n",
    "# The function parse_file should return a list of dictionaries,\n",
    "# each data line in the file being a single list entry.\n",
    "# Field names and values should not contain extra whitespace, like spaces or newline characters.\n",
    "# You can use the Python string method strip() to remove the extra whitespace.\n",
    "# You have to parse only the first 10 data lines in this exercise,\n",
    "# so the returned list should have 10 entries!\n",
    "\n",
    "import os\n",
    "import csv\n",
    "\n",
    "DATADIR = \"\"\n",
    "DATAFILE = \"beatles-diskography.csv\"\n",
    "\n",
    "\n",
    "def parse_file(datafile):\n",
    "    data = []\n",
    "    with open(datafile, \"r\") as f:\n",
    "        read_in = csv.DictReader(f)   # 神奇的东西\n",
    "        for line in read_in:\n",
    "            data.append(line)   # a list of dictionary\n",
    "    return data\n",
    "\n",
    "\n",
    "def test():\n",
    "    # a simple test of your implemetation\n",
    "    datafile = os.path.join(DATADIR, DATAFILE)\n",
    "    d = parse_file(datafile)\n",
    "    firstline = {'Title': 'Please Please Me', 'UK Chart Position': '1', 'Label': 'Parlophone(UK)', 'Released': '22 March 1963', 'US Chart Position': '-', 'RIAA Certification': 'Platinum', 'BPI Certification': 'Gold'}\n",
    "    tenthline = {'Title': '', 'UK Chart Position': '1', 'Label': 'Parlophone(UK)', 'Released': '10 July 1964', 'US Chart Position': '-', 'RIAA Certification': '', 'BPI Certification': 'Gold'}\n",
    "\n",
    "    #assert d[0] == firstline\n",
    "    #assert d[9] == tenthline\n",
    "    print d\n",
    "    \n",
    "test()"
   ]
  }
 ],
 "metadata": {
  "kernelspec": {
   "display_name": "Python 2",
   "language": "python",
   "name": "python2"
  },
  "language_info": {
   "codemirror_mode": {
    "name": "ipython",
    "version": 2
   },
   "file_extension": ".py",
   "mimetype": "text/x-python",
   "name": "python",
   "nbconvert_exporter": "python",
   "pygments_lexer": "ipython2",
   "version": "2.7.9"
  }
 },
 "nbformat": 4,
 "nbformat_minor": 0
}
