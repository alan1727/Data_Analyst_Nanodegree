{
 "cells": [
  {
   "cell_type": "code",
   "execution_count": 1,
   "metadata": {
    "collapsed": false
   },
   "outputs": [],
   "source": [
    "%matplotlib inline\n",
    "import pandas as pd\n",
    "import numpy as np\n",
    "from ggplot import *"
   ]
  },
  {
   "cell_type": "code",
   "execution_count": 2,
   "metadata": {
    "collapsed": false
   },
   "outputs": [
    {
     "name": "stdout",
     "output_type": "stream",
     "text": [
      "                   A         B         C         D\n",
      "2000-01-01  1.022378  0.451953 -1.633385 -0.649306\n",
      "2000-01-02  1.354100  0.358579 -1.081813  0.964400\n",
      "2000-01-03 -0.508900  0.066111  1.460286  0.380456\n",
      "2000-01-04  0.541849 -0.551215 -1.175752 -1.861053\n",
      "2000-01-05 -0.351576 -0.716325 -1.246378 -1.583150\n",
      "2000-01-06 -0.123093 -1.200379 -0.965710 -0.214517\n",
      "2000-01-07 -1.930946 -0.722518  1.281218  0.528404\n",
      "2000-01-08  1.237465 -0.289366  0.080904  2.040406\n"
     ]
    }
   ],
   "source": [
    "dates = pd.date_range('1/1/2000', periods=8)\n",
    "df = pd.DataFrame(np.random.randn(8,4),index=dates,columns=['A','B','C','D'])\n",
    "print df"
   ]
  },
  {
   "cell_type": "code",
   "execution_count": 3,
   "metadata": {
    "collapsed": false
   },
   "outputs": [
    {
     "name": "stdout",
     "output_type": "stream",
     "text": [
      "                   A         B         C         D\n",
      "2000-01-04  0.541849 -0.551215 -1.175752 -1.861053\n",
      "2000-01-05 -0.351576 -0.716325 -1.246378 -1.583150\n",
      "2000-01-06 -0.123093 -1.200379 -0.965710 -0.214517\n",
      "2000-01-07 -1.930946 -0.722518  1.281218  0.528404\n",
      "2000-01-08  1.237465 -0.289366  0.080904  2.040406\n"
     ]
    }
   ],
   "source": [
    "df = df[df.index>\"2000-01-03\"]\n",
    "print df"
   ]
  },
  {
   "cell_type": "code",
   "execution_count": 4,
   "metadata": {
    "collapsed": false
   },
   "outputs": [
    {
     "data": {
      "image/png": "[encoded data removed]",
      "text/plain": [
       "<matplotlib.figure.Figure at 0x1043ced10>"
      ]
     },
     "metadata": {},
     "output_type": "display_data"
    },
    {
     "name": "stdout",
     "output_type": "stream",
     "text": [
      "<ggplot: (281297581)>\n"
     ]
    }
   ],
   "source": [
    "gg = ggplot(aes(x='B',y='C'),data=df) + \\\n",
    "     geom_point()\n",
    "print gg"
   ]
  },
  {
   "cell_type": "code",
   "execution_count": null,
   "metadata": {
    "collapsed": true
   },
   "outputs": [],
   "source": []
  }
 ],
 "metadata": {
  "kernelspec": {
   "display_name": "Python 2",
   "language": "python",
   "name": "python2"
  },
  "language_info": {
   "codemirror_mode": {
    "name": "ipython",
    "version": 2
   },
   "file_extension": ".py",
   "mimetype": "text/x-python",
   "name": "python",
   "nbconvert_exporter": "python",
   "pygments_lexer": "ipython2",
   "version": "2.7.9"
  }
 },
 "nbformat": 4,
 "nbformat_minor": 0
}
